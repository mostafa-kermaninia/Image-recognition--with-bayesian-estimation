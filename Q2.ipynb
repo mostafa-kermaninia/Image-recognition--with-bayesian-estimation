{
 "cells": [
  {
   "cell_type": "markdown",
   "metadata": {},
   "source": [
    "Q2"
   ]
  },
  {
   "cell_type": "code",
   "execution_count": 32,
   "metadata": {},
   "outputs": [],
   "source": [
    "import numpy as np\n",
    "import pandas as pd\n",
    "import matplotlib.pyplot as plt\n",
    "import scipy.stats as stats\n",
    "from sympy import *"
   ]
  },
  {
   "cell_type": "markdown",
   "metadata": {},
   "source": [
    "Part 1"
   ]
  },
  {
   "cell_type": "code",
   "execution_count": 33,
   "metadata": {},
   "outputs": [],
   "source": [
    "def is_unseen_coupon_remain(coupons_dict):\n",
    "    for coupon in coupons_dict:\n",
    "        if coupons_dict[coupon] == False:\n",
    "            return True\n",
    "    return False\n",
    "\n",
    "def solve_coupon_collector_problem(n):\n",
    "    seen_counpons_count = 0\n",
    "    coupons_stat = {i:False for i in range(n)}\n",
    "    \n",
    "    while (is_unseen_coupon_remain(coupons_stat)):\n",
    "        coupons_stat[np.random.randint(n)] = True\n",
    "        seen_counpons_count+=1\n",
    "    return seen_counpons_count\n",
    "\n",
    "def coupon_collector_mean(n,k):\n",
    "    res_sum = 0\n",
    "    for i in range(k):\n",
    "        res_sum += solve_coupon_collector_problem(n)\n",
    "    return res_sum/k\n",
    "        "
   ]
  },
  {
   "cell_type": "markdown",
   "metadata": {},
   "source": [
    "Part 2"
   ]
  },
  {
   "cell_type": "code",
   "execution_count": 34,
   "metadata": {},
   "outputs": [
    {
     "name": "stdout",
     "output_type": "stream",
     "text": [
      "for n = 10 and k = 10 answer is : 27.6\n",
      "for n = 10 and k = 100 answer is : 28.81\n",
      "for n = 10 and k = 1000 answer is : 29.938\n"
     ]
    }
   ],
   "source": [
    "print(f'for n = 10 and k = 10 answer is : {coupon_collector_mean(10,10)}')\n",
    "print(f'for n = 10 and k = 100 answer is : {coupon_collector_mean(10,100)}')\n",
    "print(f'for n = 10 and k = 1000 answer is : {coupon_collector_mean(10,1000)}')\n",
    "# print(f'for n = 10 and k = 10000 answer is : {coupon_collector_mean(10,10000)}')\n",
    "# print(f'for n = 10 and k = 100000 answer is : {coupon_collector_mean(10,100000)}')\n"
   ]
  },
  {
   "cell_type": "markdown",
   "metadata": {},
   "source": [
    "Part 3"
   ]
  },
  {
   "cell_type": "code",
   "execution_count": 49,
   "metadata": {},
   "outputs": [
    {
     "data": {
      "image/png": "[encoded data removed]",
      "text/latex": [
       "$\\displaystyle \\left[ e^{s}, \\  \\sum_{k=1}^{\\infty} 0.9 \\cdot 0.1^{k - 1} e^{k s}, \\  \\sum_{k=1}^{\\infty} 0.8 \\cdot 0.2^{k - 1} e^{k s}, \\  \\sum_{k=1}^{\\infty} 0.7 \\cdot 0.3^{k - 1} e^{k s}, \\  \\sum_{k=1}^{\\infty} 0.6 \\cdot 0.4^{k - 1} e^{k s}, \\  \\sum_{k=1}^{\\infty} 0.5 \\cdot 0.5^{k - 1} e^{k s}, \\  \\sum_{k=1}^{\\infty} 0.4 \\cdot 0.6^{k - 1} e^{k s}, \\  \\sum_{k=1}^{\\infty} 0.3 \\cdot 0.7^{k - 1} e^{k s}, \\  \\sum_{k=1}^{\\infty} 0.2 \\cdot 0.8^{k - 1} e^{k s}, \\  \\sum_{k=1}^{\\infty} 0.1 \\cdot 0.9^{k - 1} e^{k s}\\right]$"
      ],
      "text/plain": [
       "⎡      ∞                        ∞                        ∞                    \n",
       "⎢     ___                      ___                      ___                   \n",
       "⎢     ╲                        ╲                        ╲                     \n",
       "⎢ s    ╲          k - 1  k⋅s    ╲          k - 1  k⋅s    ╲          k - 1  k⋅s\n",
       "⎢ℯ ,   ╱   0.9⋅0.1     ⋅ℯ   ,   ╱   0.8⋅0.2     ⋅ℯ   ,   ╱   0.7⋅0.3     ⋅ℯ   \n",
       "⎢     ╱                        ╱                        ╱                     \n",
       "⎢     ‾‾‾                      ‾‾‾                      ‾‾‾                   \n",
       "⎣    k = 1                    k = 1                    k = 1                  \n",
       "\n",
       "    ∞                        ∞                        ∞                       \n",
       "   ___                      ___                      ___                      \n",
       "   ╲                        ╲                        ╲                        \n",
       "    ╲          k - 1  k⋅s    ╲          k - 1  k⋅s    ╲          k - 1  k⋅s   \n",
       ",   ╱   0.6⋅0.4     ⋅ℯ   ,   ╱   0.5⋅0.5     ⋅ℯ   ,   ╱   0.4⋅0.6     ⋅ℯ   ,  \n",
       "   ╱                        ╱                        ╱                        \n",
       "   ‾‾‾                      ‾‾‾                      ‾‾‾                      \n",
       "  k = 1                    k = 1                    k = 1                    k\n",
       "\n",
       " ∞                        ∞                        ∞                    ⎤\n",
       "___                      ___                      ___                   ⎥\n",
       "╲                        ╲                        ╲                     ⎥\n",
       " ╲          k - 1  k⋅s    ╲          k - 1  k⋅s    ╲          k - 1  k⋅s⎥\n",
       " ╱   0.3⋅0.7     ⋅ℯ   ,   ╱   0.2⋅0.8     ⋅ℯ   ,   ╱   0.1⋅0.9     ⋅ℯ   ⎥\n",
       "╱                        ╱                        ╱                     ⎥\n",
       "‾‾‾                      ‾‾‾                      ‾‾‾                   ⎥\n",
       " = 1                    k = 1                    k = 1                  ⎦"
      ]
     },
     "execution_count": 49,
     "metadata": {},
     "output_type": "execute_result"
    }
   ],
   "source": [
    "n = 10\n",
    "k = symbols('k')\n",
    "i = symbols('i')\n",
    "s = symbols('s')\n",
    "xi_phi_list = []\n",
    "for i in range(1,n+1):\n",
    "    xi_phi = Sum(exp(s*k) * ((n-i+1)/n) * ((i-1)/n)**(k-1),(k,1,oo))\n",
    "    xi_phi_list.append(xi_phi)\n",
    "xi_phi_list[0]=exp(s)\n",
    "init_printing()\n",
    "xi_phi_list\n",
    "\n"
   ]
  },
  {
   "cell_type": "markdown",
   "metadata": {},
   "source": [
    "Part 4"
   ]
  },
  {
   "cell_type": "code",
   "execution_count": 52,
   "metadata": {},
   "outputs": [],
   "source": [
    "X_phi = np.prod(xi_phi_list)"
   ]
  },
  {
   "cell_type": "markdown",
   "metadata": {},
   "source": [
    "Part 5"
   ]
  },
  {
   "cell_type": "code",
   "execution_count": 53,
   "metadata": {},
   "outputs": [
    {
     "data": {
      "image/png": "[encoded data removed]",
      "text/latex": [
       "$\\displaystyle 29.2896825396825$"
      ],
      "text/plain": [
       "29.2896825396825"
      ]
     },
     "execution_count": 53,
     "metadata": {},
     "output_type": "execute_result"
    }
   ],
   "source": [
    "X_mean = diff(X_phi, s).subs({s:0})\n",
    "X_mean.doit()"
   ]
  }
 ],
 "metadata": {
  "kernelspec": {
   "display_name": "Python 3",
   "language": "python",
   "name": "python3"
  },
  "language_info": {
   "codemirror_mode": {
    "name": "ipython",
    "version": 3
   },
   "file_extension": ".py",
   "mimetype": "text/x-python",
   "name": "python",
   "nbconvert_exporter": "python",
   "pygments_lexer": "ipython3",
   "version": "3.8.10"
  }
 },
 "nbformat": 4,
 "nbformat_minor": 2
}
